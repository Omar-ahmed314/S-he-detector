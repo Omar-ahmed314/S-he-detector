{
 "cells": [
  {
   "cell_type": "code",
   "execution_count": 1,
   "metadata": {},
   "outputs": [],
   "source": [
    "import ExtracteFeatures\n",
    "import numpy as np\n",
    "import pickle\n",
    "import Classification"
   ]
  },
  {
   "cell_type": "code",
   "execution_count": null,
   "metadata": {},
   "outputs": [],
   "source": [
    "Y_train = ExtracteFeatures.read_labels(\"Training_data/\")\n",
    "\n",
    "# write train labels in external file\n",
    "with open(\"final models/85.13/final_train_labels.npy\", \"wb+\") as f:\n",
    "    np.save(f, Y_train)\n",
    "f.close()"
   ]
  },
  {
   "cell_type": "code",
   "execution_count": null,
   "metadata": {},
   "outputs": [],
   "source": [
    "# Read feature vector of train data from the npy file\n",
    "with open(\"final models/85.13/final_train_labels.npy\", \"rb\") as f:\n",
    "    Y_train = np.load(f, allow_pickle=True)\n",
    "f.close()"
   ]
  },
  {
   "cell_type": "code",
   "execution_count": null,
   "metadata": {},
   "outputs": [],
   "source": [
    "# Read feature vector of train data from the npy file\n",
    "with open(\"final models/85.13/ALL_features.npy\", \"rb\") as f:\n",
    "    X_train = np.load(f, allow_pickle=True)\n",
    "f.close()"
   ]
  },
  {
   "cell_type": "code",
   "execution_count": null,
   "metadata": {},
   "outputs": [],
   "source": [
    "# Fit the classifier\n",
    "clf = Classification.Gradient_Boost_Classifier(X_train, Y_train)\n",
    "# Save the model\n",
    "pickle.dump(clf, open(\"final models/85.13/Classification_Model.pkl\", \"wb\"))"
   ]
  }
 ],
 "metadata": {
  "kernelspec": {
   "display_name": "Python 3",
   "language": "python",
   "name": "python3"
  },
  "language_info": {
   "codemirror_mode": {
    "name": "ipython",
    "version": 3
   },
   "file_extension": ".py",
   "mimetype": "text/x-python",
   "name": "python",
   "nbconvert_exporter": "python",
   "pygments_lexer": "ipython3",
   "version": "3.11.3"
  }
 },
 "nbformat": 4,
 "nbformat_minor": 2
}
